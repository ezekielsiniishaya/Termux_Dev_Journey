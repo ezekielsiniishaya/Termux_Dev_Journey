{
 "cells": [
  {
   "cell_type": "code",
   "execution_count": 14,
   "id": "ec65f70c-5aac-4abb-8cac-eb5b4ebb851d",
   "metadata": {},
   "outputs": [
    {
     "name": "stdout",
     "output_type": "stream",
     "text": [
      "Ezekiel\n"
     ]
    },
    {
     "name": "stdin",
     "output_type": "stream",
     "text": [
      "Enter your name:  Naomi\n"
     ]
    },
    {
     "name": "stdout",
     "output_type": "stream",
     "text": [
      "Welcome Naomi\n"
     ]
    }
   ],
   "source": [
    "name = 'ezekiel'\n",
    "titledName = name.title()\n",
    "print(titledName)\n",
    "userName = input(\"Enter your name: \")\n",
    "\n",
    "print('Welcome ' + userName)"
   ]
  },
  {
   "cell_type": "code",
   "execution_count": null,
   "id": "aad7ec34-8ac7-4233-880f-a36855927e54",
   "metadata": {},
   "outputs": [],
   "source": []
  },
  {
   "cell_type": "code",
   "execution_count": null,
   "id": "e44484eb-f2ac-4af4-94bd-5ba7e254c121",
   "metadata": {},
   "outputs": [],
   "source": []
  },
  {
   "cell_type": "code",
   "execution_count": null,
   "id": "23fdf944-c97f-4c87-8596-5a63ad2eb5ac",
   "metadata": {},
   "outputs": [],
   "source": []
  }
 ],
 "metadata": {
  "kernelspec": {
   "display_name": "Python 3 (ipykernel)",
   "language": "python",
   "name": "python3"
  },
  "language_info": {
   "codemirror_mode": {
    "name": "ipython",
    "version": 3
   },
   "file_extension": ".py",
   "mimetype": "text/x-python",
   "name": "python",
   "nbconvert_exporter": "python",
   "pygments_lexer": "ipython3",
   "version": "3.11.10"
  }
 },
 "nbformat": 4,
 "nbformat_minor": 5
}
